{
  "nbformat": 4,
  "nbformat_minor": 0,
  "metadata": {
    "colab": {
      "provenance": [],
      "authorship_tag": "ABX9TyNGCSLmGs1C8aQ69kCKe+yc",
      "include_colab_link": true
    },
    "kernelspec": {
      "name": "python3",
      "display_name": "Python 3"
    },
    "language_info": {
      "name": "python"
    }
  },
  "cells": [
    {
      "cell_type": "markdown",
      "metadata": {
        "id": "view-in-github",
        "colab_type": "text"
      },
      "source": [
        "<a href=\"https://colab.research.google.com/github/hannahwilkinson/FinanceCalculator/blob/main/FinanceCalculator.ipynb\" target=\"_parent\"><img src=\"https://colab.research.google.com/assets/colab-badge.svg\" alt=\"Open In Colab\"/></a>"
      ]
    },
    {
      "cell_type": "code",
      "source": [
        "print(\"FINANCES\")\n",
        "print(\"------------------------------------------\")\n",
        "print(\"Current Balances:\")\n",
        "\n",
        "currentCheckings = 100\n",
        "currentSavings = 150\n",
        "print(\"    Checkings: \", currentCheckings)\n",
        "print(\"    Savings: \", currentSavings)\n",
        "\n",
        "paycheckAmt = int(input(\"Paycheck Amount: \"))\n",
        "\n",
        "percentSavings = int(input(\"Percentage allocated towards savings: \"))\n",
        "savingsAmt = int(percentSavings * paycheckAmt / 100)\n",
        "\n",
        "print(\"------------------------------------------\")\n",
        "print(\"To Deposit:\")\n",
        "checkings = paycheckAmt - savingsAmt\n",
        "print(\"    Checkings: \", checkings)\n",
        "print(\"    Savings: \", savingsAmt)\n",
        "print(\"------------------------------------------\")\n",
        "print(\"New Amounts:\")\n",
        "checkingAmt = paycheckAmt - savingsAmt\n",
        "updatedAmtCheckings = currentCheckings + checkingAmt\n",
        "updatedAmtSavings = currentSavings + savingsAmt\n",
        "print(\"    New Checkings Amount:\", updatedAmtCheckings)\n",
        "print(\"    New Savings Amount:\", updatedAmtSavings)"
      ],
      "metadata": {
        "colab": {
          "base_uri": "https://localhost:8080/"
        },
        "id": "rY9WUHmuKBSs",
        "outputId": "41714d1d-56cb-465d-9995-4516c3455d1b"
      },
      "execution_count": 9,
      "outputs": [
        {
          "output_type": "stream",
          "name": "stdout",
          "text": [
            "FINANCES\n",
            "------------------------------------------\n",
            "Current Balances:\n",
            "    Checkings:  100\n",
            "    Savings:  150\n",
            "Paycheck Amount: 200\n",
            "Percentage allocated towards savings: 10\n",
            "------------------------------------------\n",
            "To Deposit:\n",
            "    Checkings:  180\n",
            "    Savings:  20\n",
            "------------------------------------------\n",
            "New Amounts:\n",
            "    New Checkings Amount: 280\n",
            "    New Savings Amount: 170\n"
          ]
        }
      ]
    }
  ]
}