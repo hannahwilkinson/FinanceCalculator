{
  "nbformat": 4,
  "nbformat_minor": 0,
  "metadata": {
    "colab": {
      "provenance": [],
      "authorship_tag": "ABX9TyNcrIguT3K3ySyNRWGr5EYh",
      "include_colab_link": true
    },
    "kernelspec": {
      "name": "python3",
      "display_name": "Python 3"
    },
    "language_info": {
      "name": "python"
    }
  },
  "cells": [
    {
      "cell_type": "markdown",
      "metadata": {
        "id": "view-in-github",
        "colab_type": "text"
      },
      "source": [
        "<a href=\"https://colab.research.google.com/github/hannahwilkinson/FinanceCalculator/blob/main/FinanceCalculator.ipynb\" target=\"_parent\"><img src=\"https://colab.research.google.com/assets/colab-badge.svg\" alt=\"Open In Colab\"/></a>"
      ]
    },
    {
      "cell_type": "code",
      "source": [
        "print(\"FINANCES\")\n",
        "print(\"------------------------------------------\")\n",
        "print(\"Current Balances:\")\n",
        "\n",
        "currentCheckings = 100\n",
        "currentSavings = 150\n",
        "print(\"    Checkings: \", currentCheckings)\n",
        "print(\"    Savings: \", currentSavings)\n",
        "\n",
        "paycheckAmt = int(input(\"Paycheck Amount: \"))\n",
        "\n",
        "#print(\"Asign the percentage that you want allocated to your savings\")\n",
        "#Percent = \"30%\" # @param [\"10%\", \"20%\", \"30%\"]\n",
        "\n",
        "percentSavings = int(input(\"Percentage allocated towards savings: \"))\n",
        "savingsAmt = int(percentSavings * paycheckAmt / 100)\n",
        "\n",
        "#percentSavings = int(input(Percent * paycheckAmt))\n",
        "\n",
        "#savings = int(paycheckAmt * 0.4)\n",
        "#checkings = paycheckAmt - savings\n",
        "\n",
        "print(\"------------------------------------------\")\n",
        "print(\"To Deposit:\")\n",
        "print(\"    Savings: \", savingsAmt)\n",
        "checkings = paycheckAmt - savingsAmt\n",
        "print(\"    Checkings: \", checkings)\n",
        "#print(\"Checkings Account:\", checkings)\n",
        "#print(\"Savings Account:\", savings)\n",
        "\n",
        "#print(dropdown)"
      ],
      "metadata": {
        "colab": {
          "base_uri": "https://localhost:8080/"
        },
        "id": "rY9WUHmuKBSs",
        "outputId": "2046e0b5-95ca-431c-847f-f769d694365a"
      },
      "execution_count": null,
      "outputs": [
        {
          "output_type": "stream",
          "name": "stdout",
          "text": [
            "FINANCES\n",
            "------------------------------------------\n",
            "Current Balances:\n",
            "    Checkings:  100\n",
            "    Savings:  150\n",
            "Paycheck Amount: 800\n",
            "Percentage allocated towards savings: 10\n",
            "------------------------------------------\n",
            "To Deposit:\n",
            "    Savings:  80\n",
            "    Checkings:  720\n"
          ]
        }
      ]
    }
  ]
}